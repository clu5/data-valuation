{
 "cells": [
  {
   "cell_type": "markdown",
   "metadata": {},
   "source": [
    "# Open this notebook from Google Colab\n",
    "\n",
    "1. Go to https://colab.research.google.com/\n",
    "2. From the left-hand sidebar, click GitHub tab\n",
    "3. Then sign in and find the `data-valuation` repo (make sure \"private repo\" box is checked)\n",
    "4. Open this notebook `Colab_Setup.ipynb` and follow the rest of the instructions in this notebook"
   ]
  },
  {
   "cell_type": "markdown",
   "metadata": {
    "id": "_r2HhYQwSY-j"
   },
   "source": [
    "**First mount your Google Drive by running the next cell**"
   ]
  },
  {
   "cell_type": "code",
   "execution_count": 1,
   "metadata": {
    "colab": {
     "base_uri": "https://localhost:8080/"
    },
    "id": "Q9YCHLicOOO8",
    "outputId": "2730d666-3656-4d64-84c2-8874f0764d7b"
   },
   "outputs": [
    {
     "ename": "ModuleNotFoundError",
     "evalue": "No module named 'google'",
     "output_type": "error",
     "traceback": [
      "\u001b[0;31m---------------------------------------------------------------------------\u001b[0m",
      "\u001b[0;31mModuleNotFoundError\u001b[0m                       Traceback (most recent call last)",
      "Cell \u001b[0;32mIn[1], line 1\u001b[0m\n\u001b[0;32m----> 1\u001b[0m \u001b[38;5;28;01mfrom\u001b[39;00m \u001b[38;5;21;01mgoogle\u001b[39;00m\u001b[38;5;21;01m.\u001b[39;00m\u001b[38;5;21;01mcolab\u001b[39;00m \u001b[38;5;28;01mimport\u001b[39;00m drive\n\u001b[1;32m      2\u001b[0m drive\u001b[38;5;241m.\u001b[39mmount(\u001b[38;5;124m'\u001b[39m\u001b[38;5;124m/content/drive\u001b[39m\u001b[38;5;124m'\u001b[39m)\n",
      "\u001b[0;31mModuleNotFoundError\u001b[0m: No module named 'google'"
     ]
    }
   ],
   "source": [
    "from google.colab import drive\n",
    "drive.mount('/content/drive')"
   ]
  },
  {
   "cell_type": "markdown",
   "metadata": {
    "id": "wOcuHXgGTFGW"
   },
   "source": [
    "**Change directory into Google Drive and clone repo**\n",
    "1. Follow instructions to create your personal access token (PAT) [here](https://stackoverflow.com/questions/2505096/clone-a-private-repository-github)\n",
    "2. You can clone the private repo like this `git clone https://$PAT@github.com/clu5/data-valuation.git`\n",
    "3. Run the following cell and replace `$PAT` with your personal access token"
   ]
  },
  {
   "cell_type": "code",
   "execution_count": 10,
   "metadata": {
    "colab": {
     "base_uri": "https://localhost:8080/"
    },
    "id": "hCAQGyRnTMy-",
    "outputId": "6c3cf75c-fd0a-4ddb-f24e-97ccac6e3321"
   },
   "outputs": [
    {
     "name": "stdout",
     "output_type": "stream",
     "text": [
      "Cloning into 'data-valuation'...\n",
      "remote: Enumerating objects: 97, done.\u001b[K\n",
      "remote: Counting objects: 100% (97/97), done.\u001b[K\n",
      "remote: Compressing objects: 100% (74/74), done.\u001b[K\n",
      "remote: Total 97 (delta 43), reused 74 (delta 21), pack-reused 0\u001b[K\n",
      "Receiving objects: 100% (97/97), 11.93 MiB | 9.78 MiB/s, done.\n",
      "Resolving deltas: 100% (43/43), done.\n"
     ]
    }
   ],
   "source": [
    "# from google.colab import userdata\n",
    "# PAT = userdata.get('PAT')\n",
    "!cd /content/drive/MyDrive && git clone https://$PAT@github.com/clu5/data-valuation.git"
   ]
  },
  {
   "cell_type": "markdown",
   "metadata": {
    "id": "RGGGEEKaXOWH"
   },
   "source": [
    "**To open a notebook**\n",
    "1. Go to https://drive.google.com/ and open `data-valuation` folder\n",
    "2. Right click on notebook and open with `Google Colaboratory`\n",
    "3. Add and run the following code to the beginning of the notebook"
   ]
  },
  {
   "cell_type": "code",
   "execution_count": null,
   "metadata": {
    "id": "xFKPzNr8VqOS"
   },
   "outputs": [],
   "source": [
    "# Add at the top of the notebook\n",
    "from google.colab import drive\n",
    "drive.mount('/content/drive')\n",
    "%cd /content/drive/MyDrive/data-valuation/\n",
    "!pip install -qr requirements.txt"
   ]
  }
 ],
 "metadata": {
  "colab": {
   "provenance": []
  },
  "kernelspec": {
   "display_name": "Python 3 (ipykernel)",
   "language": "python",
   "name": "python3"
  },
  "language_info": {
   "codemirror_mode": {
    "name": "ipython",
    "version": 3
   },
   "file_extension": ".py",
   "mimetype": "text/x-python",
   "name": "python",
   "nbconvert_exporter": "python",
   "pygments_lexer": "ipython3",
   "version": "3.11.4"
  }
 },
 "nbformat": 4,
 "nbformat_minor": 4
}
