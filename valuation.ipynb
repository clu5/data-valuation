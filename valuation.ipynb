{
 "cells": [
  {
   "cell_type": "code",
   "execution_count": 2,
   "id": "05d537ea-9da4-4ae9-9a0e-09dbdab29415",
   "metadata": {},
   "outputs": [
    {
     "name": "stdout",
     "output_type": "stream",
     "text": [
      "\n",
      "\u001b[1m[\u001b[0m\u001b[34;49mnotice\u001b[0m\u001b[1;39;49m]\u001b[0m\u001b[39;49m A new release of pip available: \u001b[0m\u001b[31;49m22.2.2\u001b[0m\u001b[39;49m -> \u001b[0m\u001b[32;49m22.3.1\u001b[0m\n",
      "\u001b[1m[\u001b[0m\u001b[34;49mnotice\u001b[0m\u001b[1;39;49m]\u001b[0m\u001b[39;49m To update, run: \u001b[0m\u001b[32;49mpip install --upgrade pip\u001b[0m\n"
     ]
    }
   ],
   "source": [
    "!pip install -q wilds"
   ]
  },
  {
   "cell_type": "code",
   "execution_count": 1,
   "id": "b553181b-1a8c-406d-be67-ee65214f80c3",
   "metadata": {},
   "outputs": [],
   "source": [
    "import torch\n",
    "import torch.utils.data as data\n",
    "import torchvision\n",
    "from torchvision.transforms import transforms\n",
    "from torchvision.models import efficientnet_b3, EfficientNet_B3_Weights\n",
    "import numpy as np\n",
    "import matplotlib.pyplot as plt\n",
    "import pandas as pd\n",
    "from sklearn import metrics\n",
    "from pathlib import Path\n",
    "from PIL import Image\n",
    "import wilds\n",
    "from wilds.common.data_loaders import get_train_loader, get_eval_loader\n",
    "device = torch.device('cuda:3')\n",
    "import train\n",
    "import copy\n",
    "import importlib"
   ]
  },
  {
   "cell_type": "code",
   "execution_count": 2,
   "id": "47593556-01f0-4ba6-b39a-d3d9249122ff",
   "metadata": {},
   "outputs": [],
   "source": [
    "check_name = Path('models/rxrx1-b3.pt')\n",
    "task = check_name.stem.split('-')\n",
    "checkpoint = torch.load(check_name)"
   ]
  },
  {
   "cell_type": "code",
   "execution_count": 3,
   "id": "7006260d-759a-4fb2-bb67-4c9e61405b4b",
   "metadata": {},
   "outputs": [],
   "source": [
    "dataset = wilds.get_dataset(dataset='rxrx1', root_dir='/u/luchar/data/wilds/')\n",
    "num_classes = dataset._n_classes\n",
    "# model = efficientnet_b2(weights=EfficientNet_B2_Weights.IMAGENET1K_V1)\n",
    "model = efficientnet_b3()\n",
    "model.classifier[1] = torch.nn.Linear(model.classifier[1].in_features, num_classes)\n",
    "model.load_state_dict(checkpoint['model'])\n",
    "model = model.cuda()"
   ]
  },
  {
   "cell_type": "code",
   "execution_count": 4,
   "id": "147cfe7c-5423-4c14-a771-aa4d96a021da",
   "metadata": {},
   "outputs": [],
   "source": [
    "compose_transforms = transforms.Compose([\n",
    "    transforms.Resize((224, 224)),\n",
    "    transforms.ToTensor(),\n",
    "])\n",
    "\n",
    "id_train_data = dataset.get_subset('train', transform=compose_transforms)\n",
    "id_test_data = dataset.get_subset('id_test', transform=compose_transforms)\n",
    "od_val_data = dataset.get_subset('val', transform=compose_transforms)\n",
    "od_test_data = dataset.get_subset('test', transform=compose_transforms)"
   ]
  },
  {
   "cell_type": "code",
   "execution_count": 5,
   "id": "37b20a63-d8e1-4120-b4e8-5f9192cbc507",
   "metadata": {},
   "outputs": [
    {
     "data": {
      "text/plain": [
       "(40612, 4061, 5000, 5000, 5000, 5000)"
      ]
     },
     "execution_count": 5,
     "metadata": {},
     "output_type": "execute_result"
    }
   ],
   "source": [
    "subset = lambda ds, indices: data.Subset(ds, indices)\n",
    "loader = lambda ds: data.DataLoader(ds, batch_size=16, num_workers=8, pin_memory=True, shuffle=False)\n",
    "\n",
    "cal_split = int(len(id_test_data)*0.1)\n",
    "\n",
    "id_cal_data = subset(id_test_data, range(cal_split))\n",
    "id_test_data = subset(id_test_data, range(cal_split, len(id_test_data)))\n",
    "\n",
    "id_cal_data = subset(id_cal_data, range(min(5000, len(id_cal_data))))\n",
    "id_test_data = subset(id_test_data, range(min(5000, len(id_test_data))))\n",
    "od_val_data = subset(od_val_data, range(min(5000, len(od_val_data))))\n",
    "od_test_data = subset(od_test_data, range(min(5000, len(od_test_data))))\n",
    "len(id_train_data), len(id_cal_data), len(id_test_data), len(od_val_data), len(od_test_data), len(id_test_data)"
   ]
  },
  {
   "cell_type": "code",
   "execution_count": 6,
   "id": "aba4fdab-d00e-4fcb-8142-c12a6b421bac",
   "metadata": {},
   "outputs": [
    {
     "name": "stdout",
     "output_type": "stream",
     "text": [
      "cal done\n",
      "id test done\n",
      "od val done\n",
      "od test done\n"
     ]
    }
   ],
   "source": [
    "id_cal_scores, id_cal_labels = train.get_scores(model, loader(id_cal_data))\n",
    "print('cal done')\n",
    "id_test_scores, id_test_labels = train.get_scores(model, loader(id_test_data))\n",
    "print('id test done')\n",
    "od_val_scores, od_val_labels = train.get_scores(model, loader(od_val_data))\n",
    "print('od val done')\n",
    "od_test_scores, od_test_labels = train.get_scores(model, loader(od_test_data))\n",
    "print('od test done')"
   ]
  },
  {
   "cell_type": "code",
   "execution_count": 7,
   "id": "5b352fe3-445e-496a-8c5f-94cc7e1c44aa",
   "metadata": {},
   "outputs": [
    {
     "name": "stdout",
     "output_type": "stream",
     "text": [
      "accuracy: 2.52%\n",
      "accuracy: 1.60%\n"
     ]
    },
    {
     "data": {
      "text/plain": [
       "0.016"
      ]
     },
     "execution_count": 7,
     "metadata": {},
     "output_type": "execute_result"
    }
   ],
   "source": [
    "train.accuracy(id_test_scores, id_test_labels)\n",
    "train.accuracy(od_test_scores, od_test_labels)"
   ]
  },
  {
   "cell_type": "code",
   "execution_count": 8,
   "id": "dc9e91a1-90a2-4233-9c1b-b11d230465d8",
   "metadata": {},
   "outputs": [],
   "source": [
    "def get_q_hat(calibration_scores, labels, alpha=0.05):\n",
    "    if not isinstance(calibration_scores, torch.Tensor):\n",
    "        calibration_scores = torch.tensor(calibration_scores)\n",
    "       \n",
    "    n = calibration_scores.shape[0]\n",
    "   \n",
    "    #  sort scores and returns values and index that would sort classes\n",
    "    values, indices = calibration_scores.sort(dim=1, descending=True)\n",
    "   \n",
    "    #  sum up all scores cummulatively and return to original index order\n",
    "    cum_scores = values.cumsum(1).gather(1, indices.argsort(1))[range(n), labels]\n",
    "   \n",
    "    #  get quantile with small correction for finite sample sizes\n",
    "    q_hat = torch.quantile(cum_scores, np.ceil((n + 1) * (1 - alpha)) / n)\n",
    "    clipped_q_hat = torch.minimum(q_hat, torch.tensor(1-1e-9))\n",
    "   \n",
    "    return clipped_q_hat\n",
    "\n",
    "\n",
    "def make_prediction_set(scores, q_hat):\n",
    "    if not isinstance(scores, torch.Tensor):\n",
    "        scores = torch.tensor(scores)\n",
    "    assert q_hat < 1, 'q_hat must be below 1'\n",
    "       \n",
    "    n = scores.shape[0]\n",
    "   \n",
    "    values, indices = scores.sort(dim=1, descending=True)\n",
    "   \n",
    "    #  number of each confidence prediction set to acheive coverage\n",
    "    set_sizes = (values.cumsum(1) > q_hat).int().argmax(dim=1)\n",
    "   \n",
    "    confidence_sets = [indices[i][0:(set_sizes[i] + 1)] for i in range(n)]\n",
    "   \n",
    "    return [x.tolist() for x in confidence_sets]\n",
    "\n",
    "get_sizes = lambda x: np.array([len(x_i) for x_i in x])"
   ]
  },
  {
   "cell_type": "code",
   "execution_count": 9,
   "id": "f0e7fc8e-c712-46d8-8434-da9d70c0ec6b",
   "metadata": {},
   "outputs": [],
   "source": [
    "alpha = 0.10\n",
    "q_hat = get_q_hat(id_cal_scores, id_cal_labels, alpha=alpha)"
   ]
  },
  {
   "cell_type": "code",
   "execution_count": 10,
   "id": "a3537283-2297-4bd3-b7c3-cf2b24c48bb0",
   "metadata": {},
   "outputs": [],
   "source": [
    "id_test_pset = make_prediction_set(id_test_scores, q_hat)\n",
    "od_val_pset = make_prediction_set(od_val_scores, q_hat)\n",
    "od_test_pset = make_prediction_set(od_test_scores, q_hat)"
   ]
  },
  {
   "cell_type": "code",
   "execution_count": 11,
   "id": "e6783f98-2491-4772-8a49-383b4b854441",
   "metadata": {},
   "outputs": [],
   "source": [
    "id_test_size = get_sizes(id_test_pset)\n",
    "od_val_size = get_sizes(od_val_pset)\n",
    "od_test_size = get_sizes(od_test_pset)"
   ]
  },
  {
   "cell_type": "code",
   "execution_count": 12,
   "id": "2d0fd5c4-2bf1-47ce-abe1-34f3d950763a",
   "metadata": {},
   "outputs": [
    {
     "data": {
      "image/png": "[encoded data removed]",
      "text/plain": [
       "<Figure size 1800x400 with 2 Axes>"
      ]
     },
     "metadata": {},
     "output_type": "display_data"
    }
   ],
   "source": [
    "bins=50\n",
    "fig, ax = plt.subplots(ncols=2, figsize=(18, 4))\n",
    "ax[0].hist(id_test_size, bins=bins)\n",
    "ax[1].hist(od_test_size, bins=bins)\n",
    "ax[0].axvline(id_test_size.mean(), color='C1')\n",
    "ax[1].axvline(od_test_size.mean(), color='C1')\n",
    "ax[0].set_title(f'avg pset size {id_test_size.mean():.1f}')\n",
    "ax[1].set_title(f'avg pset size {od_test_size.mean():.1f}')\n",
    "plt.show()"
   ]
  },
  {
   "cell_type": "code",
   "execution_count": 13,
   "id": "14e7ab29-8cd3-4573-a38f-e2e488c4ea9f",
   "metadata": {},
   "outputs": [],
   "source": [
    "budget_per_round = int(0.3 * len(od_val_data))"
   ]
  },
  {
   "cell_type": "code",
   "execution_count": 14,
   "id": "d7094914-2919-4083-92cd-7c56fe319d83",
   "metadata": {},
   "outputs": [
    {
     "data": {
      "text/plain": [
       "1500"
      ]
     },
     "execution_count": 14,
     "metadata": {},
     "output_type": "execute_result"
    }
   ],
   "source": [
    "budget_per_round"
   ]
  },
  {
   "cell_type": "code",
   "execution_count": 15,
   "id": "bf75d826-67da-4ac0-aebb-6125dfd4cf6b",
   "metadata": {},
   "outputs": [
    {
     "data": {
      "text/plain": [
       "549.7"
      ]
     },
     "execution_count": 15,
     "metadata": {},
     "output_type": "execute_result"
    }
   ],
   "source": [
    "np.quantile(id_test_size, 0.30)"
   ]
  },
  {
   "cell_type": "code",
   "execution_count": 16,
   "id": "68f46da5-a67c-46de-bc88-1d94655f98f2",
   "metadata": {},
   "outputs": [
    {
     "data": {
      "text/plain": [
       "553"
      ]
     },
     "execution_count": 16,
     "metadata": {},
     "output_type": "execute_result"
    }
   ],
   "source": [
    "((700 < od_val_size) & (od_val_size < 800)).sum()"
   ]
  },
  {
   "cell_type": "code",
   "execution_count": 17,
   "id": "d09cb289-c531-4020-a0f1-ec9710744012",
   "metadata": {},
   "outputs": [
    {
     "data": {
      "text/plain": [
       "(4033, 4033)"
      ]
     },
     "execution_count": 17,
     "metadata": {},
     "output_type": "execute_result"
    }
   ],
   "source": [
    "bought_index = [i for i, size in enumerate(od_test_size) if size > 500]\n",
    "random_index = np.random.randint(0, len(od_test_size), size=len(bought_index))\n",
    "len(bought_index), len(random_index)"
   ]
  },
  {
   "cell_type": "code",
   "execution_count": 18,
   "id": "d480ccb6-ea39-48b1-800d-599de99bfc1b",
   "metadata": {},
   "outputs": [],
   "source": [
    "bought_data = subset(od_test_data, bought_index)\n",
    "random_data = subset(od_test_data, random_index)"
   ]
  },
  {
   "cell_type": "code",
   "execution_count": 19,
   "id": "631f7da4-c800-4660-9877-f44b8b382dc4",
   "metadata": {},
   "outputs": [],
   "source": [
    "model_bought = copy.deepcopy(model).cuda()\n",
    "model_random = copy.deepcopy(model).cuda()\n",
    "\n",
    "criterion = torch.nn.CrossEntropyLoss()\n",
    "lr = 1e-5\n",
    "opt_bought = torch.optim.Adam(model_bought.parameters(), lr=lr)\n",
    "opt_random = torch.optim.Adam(model_random.parameters(), lr=lr)"
   ]
  },
  {
   "cell_type": "code",
   "execution_count": 20,
   "id": "35c2c9fa-e93f-439c-98d6-6052e06fc528",
   "metadata": {},
   "outputs": [],
   "source": [
    "fit_kwargs = dict(criterion=criterion, epochs=3, debug=False, patience=5)"
   ]
  },
  {
   "cell_type": "code",
   "execution_count": 21,
   "id": "e8364654-81d8-49c1-9fe3-04580d555ce4",
   "metadata": {},
   "outputs": [
    {
     "name": "stdout",
     "output_type": "stream",
     "text": [
      "\n",
      "epoch 0\n",
      "\t 0validating... accuracy: 0.68%\n",
      "\n",
      "epoch 1\n",
      "\t 0validating... accuracy: 0.70%\n",
      "\n",
      "epoch 2\n",
      "\t 0validating... accuracy: 0.76%\n",
      "\n",
      "epoch 0\n",
      "\t 0validating... accuracy: 0.92%\n",
      "\n",
      "epoch 1\n",
      "\t 0validating... accuracy: 0.88%\n",
      "\n",
      "epoch 2\n",
      "\t 0validating... accuracy: 1.02%\n"
     ]
    }
   ],
   "source": [
    "importlib.reload(train)\n",
    "model_bought = train.fit(model_bought, loader(bought_data), val_loader=loader(id_test_data), optimizer=opt_bought, **fit_kwargs)\n",
    "model_random = train.fit(model_random, loader(random_data), val_loader=loader(id_test_data), optimizer=opt_random, **fit_kwargs)"
   ]
  },
  {
   "cell_type": "code",
   "execution_count": 22,
   "id": "f0795ab3-c8f8-44a3-8b09-a122d039a46b",
   "metadata": {},
   "outputs": [],
   "source": [
    "id_bought_scores, id_bought_labels = train.get_scores(model_bought, loader(id_test_data))\n",
    "id_random_scores, id_random_labels = train.get_scores(model_random, loader(id_test_data))\n",
    "\n",
    "train.accuracy(id_bought_scores, id_bought_labels)\n",
    "train.accuracy(id_random_scores, id_random_labels)"
   ]
  },
  {
   "cell_type": "code",
   "execution_count": 24,
   "id": "151dab7c-a06d-43c1-914b-c08f7297e35e",
   "metadata": {},
   "outputs": [],
   "source": [
    "od_bought_scores, od_bought_labels = train.get_scores(model_bought, loader(od_test_data))\n",
    "od_random_scores, od_random_labels = train.get_scores(model_random, loader(od_test_data))\n",
    "\n",
    "train.accuracy(od_bought_scores, od_bought_labels)\n",
    "train.accuracy(od_random_scores, od_random_labels)"
   ]
  },
  {
   "cell_type": "code",
   "execution_count": null,
   "id": "45467287-9849-47d0-bb9b-0032f480acab",
   "metadata": {},
   "outputs": [],
   "source": []
  },
  {
   "cell_type": "code",
   "execution_count": null,
   "id": "a3ebd0a4-c0ae-43f8-8469-a071a2930126",
   "metadata": {},
   "outputs": [],
   "source": [
    "\n",
    "def get_entropy(set_sizes, minlength=1):\n",
    "    n = len(set_sizes)\n",
    "    counts = np.bincount(set_sizes, minlength=minlength)\n",
    "    probs = counts / n\n",
    "    return -sum(p * np.log(p) for p in probs if p != 0)\n",
    "source_sets_by_alpha = {}\n",
    "target_sets_by_alpha = {}\n",
    "for alpha in np.arange(0.1, 1, 0.1):\n",
    "    alpha = round(alpha, 1)\n",
    "    q_hat = get_q_hat(source_val_scores, source_val_labels, alpha=alpha)\n",
    "\n",
    "    source_sets = make_prediction_set(source_val_scores, q_hat)\n",
    "    target_sets = make_prediction_set(target_train_scores, q_hat)\n",
    "    source_sets_by_alpha[alpha] = source_sets\n",
    "    target_sets_by_alpha[alpha] = target_sets\n",
    "    source_sizes = get_sizes(source_sets)\n",
    "    target_sizes = get_sizes(target_sets)\n",
    "\n",
    "    bins = 8\n",
    "    fig, ax = plt.subplots(ncols=2, figsize=(16, 3))\n",
    "    ax[0].set_title(f'source: alpha={alpha} entropy={get_entropy(source_sizes)}')\n",
    "    ax[0].hist(source_sizes, bins=bins)\n",
    "    ax[0].set_xlim(1, num_classes)\n",
    "    ax[0].set_xlabel('set size', fontsize=32)\n",
    "    ax[0].set_ylabel('count', fontsize=32)\n",
    "    ax[1].set_title(f'target: alpha={alpha} entropy={get_entropy(target_sizes)}')\n",
    "    ax[1].hist(target_sizes, bins=bins)\n",
    "    ax[1].set_xlim(1, num_classes)\n",
    "    ax[1].set_xlabel('set size', fontsize=32)\n",
    "    ax[1].set_ylabel('count', fontsize=32)\n",
    "    plt.show()\n",
    "alpha = 0.1\n",
    "\n",
    "bought_index = [i for i, x in enumerate(get_sizes(target_sets_by_alpha[alpha])) if x in range(30, 60)]\n",
    "num_bought = len(bought_index)\n",
    "print(f'bought {num_bought / len(target_sets_by_alpha[alpha]):.0%} samples out of {len(target_sets_by_alpha[alpha])}')\n",
    "bought_train = target_train_df.iloc[bought_index]\n",
    "print(f'labeled {len(bought_train)} samples')\n",
    "\n",
    "bought_df = pd.concat([source_train_df, bought_train])\n",
    "bought_loader = loader(Dataset(bought_df), **loader_kwargs)\n",
    "print(f'number in new bought training set {len(bought_df)}')\n",
    "random_df = pd.concat([source_train_df, target_train_df.sample(n=len(bought_train))])\n",
    "random_loader = loader(Dataset(random_df), **loader_kwargs)\n",
    "print(f'number in new training set {len(bought_loader)}')\n",
    "print(f'number in new random training set {len(random_df)}')\n",
    "import copy\n",
    "model1 = copy.deepcopy(model)\n",
    "model2 = copy.deepcopy(model)\n",
    "optimizer1 = torch.optim.Adam(model1.parameters(), lr=1e-4)\n",
    "optimizer2 = torch.optim.Adam(model2.parameters(), lr=1e-4)\n",
    "\n",
    "model1 = fit(model1, bought_loader, criterion, optimizer1)\n",
    "model2 = fit(model2, random_loader, criterion, optimizer2)\n",
    "source_test_scores1, source_test_labels1 = get_scores(model1, source_test)\n",
    "source_test_scores2, source_test_labels2 = get_scores(model2, source_test)\n",
    "target_test_scores1, target_test_labels1 = get_scores(model1, target_test)\n",
    "target_test_scores2, target_test_labels2 = get_scores(model2, target_test)\n",
    "print(metrics.accuracy_score(source_test_scores1.argmax(1), source_test_labels1))\n",
    "print(metrics.accuracy_score(source_test_scores2.argmax(1), source_test_labels2))\n",
    "print(metrics.accuracy_score(target_test_scores1.argmax(1), target_test_labels1))\n",
    "print(metrics.accuracy_score(target_test_scores2.argmax(1), target_test_labels2))"
   ]
  },
  {
   "cell_type": "code",
   "execution_count": null,
   "id": "60dd8892-8f31-4750-b3b2-78b226135a17",
   "metadata": {},
   "outputs": [],
   "source": []
  },
  {
   "cell_type": "code",
   "execution_count": null,
   "id": "78181f44-15f1-417f-9c2d-9cff4a500202",
   "metadata": {},
   "outputs": [],
   "source": []
  },
  {
   "cell_type": "code",
   "execution_count": null,
   "id": "98569e66-0f4a-4c2a-81a6-f3a2b189e0ce",
   "metadata": {},
   "outputs": [],
   "source": []
  }
 ],
 "metadata": {
  "kernelspec": {
   "display_name": "Python 3 (ipykernel)",
   "language": "python",
   "name": "python3"
  },
  "language_info": {
   "codemirror_mode": {
    "name": "ipython",
    "version": 3
   },
   "file_extension": ".py",
   "mimetype": "text/x-python",
   "name": "python",
   "nbconvert_exporter": "python",
   "pygments_lexer": "ipython3",
   "version": "3.10.8"
  }
 },
 "nbformat": 4,
 "nbformat_minor": 5
}
